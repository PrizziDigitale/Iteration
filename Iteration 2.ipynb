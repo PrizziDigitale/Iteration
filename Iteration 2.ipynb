{
 "cells": [
  {
   "cell_type": "markdown",
   "id": "a0950026",
   "metadata": {},
   "source": [
    "## Step 1 - The Count class as an iterator. Make a couple of instances"
   ]
  },
  {
   "cell_type": "code",
   "execution_count": 1,
   "id": "5719bbef",
   "metadata": {},
   "outputs": [],
   "source": [
    "class countIterator:\n",
    "    def __init__(self, limit):\n",
    "        self.limit = limit\n",
    "        self.count = 0\n",
    "        \n",
    "    def __iter__(self):\n",
    "        return self\n",
    "    \n",
    "    def __next__(self):\n",
    "        if self.count < self.limit:\n",
    "            return_value = self.count\n",
    "            self.count += 1\n",
    "            return return_value\n",
    "        else:\n",
    "            raise StopIteration"
   ]
  },
  {
   "cell_type": "code",
   "execution_count": 2,
   "id": "95a95e7e",
   "metadata": {},
   "outputs": [
    {
     "name": "stdout",
     "output_type": "stream",
     "text": [
      "0\n",
      "1\n",
      "2\n",
      "3\n",
      "4\n"
     ]
    }
   ],
   "source": [
    "c = countIterator(5)\n",
    "for i in c:\n",
    "    print(i)"
   ]
  },
  {
   "cell_type": "code",
   "execution_count": 3,
   "id": "f484f245",
   "metadata": {},
   "outputs": [
    {
     "name": "stdout",
     "output_type": "stream",
     "text": [
      "[0, 1, 2, 3, 4, 5, 6, 7, 8]\n"
     ]
    }
   ],
   "source": [
    "c2 = countIterator(9)\n",
    "c_list = list(c2)\n",
    "print(c_list)"
   ]
  },
  {
   "cell_type": "markdown",
   "id": "eb2baac6",
   "metadata": {},
   "source": [
    "## Step 2 - Create an iterator class that functions in the same way as the iterable created in Milestone 1. Test your Fibonacci iterator class by creating an instance and making sure you get the right results."
   ]
  },
  {
   "cell_type": "code",
   "execution_count": 4,
   "id": "739061e5",
   "metadata": {},
   "outputs": [],
   "source": [
    "class fiboIto:\n",
    "    def __init__(self, limit):\n",
    "        self.limit = limit\n",
    "        self.current = 1\n",
    "        self.last = 1\n",
    "        self.index = 0\n",
    "        \n",
    "    def __iter__(self):\n",
    "        return self\n",
    "    \n",
    "    def __next__(self):\n",
    "        if self.index < self.limit:\n",
    "            if self.index in (0,1):\n",
    "                fib_val = 1\n",
    "            else:\n",
    "                fib_val = self.current + self.last\n",
    "                self.last = self.current\n",
    "                self.current = fib_val\n",
    "            self.index += 1\n",
    "            return fib_val\n",
    "        else:\n",
    "            raise StopIteration"
   ]
  },
  {
   "cell_type": "markdown",
   "id": "89da4107",
   "metadata": {},
   "source": [
    "### Check the Fibonacci in a for loop."
   ]
  },
  {
   "cell_type": "code",
   "execution_count": 5,
   "id": "9e181828",
   "metadata": {},
   "outputs": [
    {
     "name": "stdout",
     "output_type": "stream",
     "text": [
      "1\n",
      "1\n",
      "2\n",
      "3\n",
      "5\n",
      "8\n",
      "13\n",
      "21\n"
     ]
    }
   ],
   "source": [
    "f1 = fiboIto(8)\n",
    "for num in f1:\n",
    "    print(num)"
   ]
  },
  {
   "cell_type": "markdown",
   "id": "74743db4",
   "metadata": {},
   "source": [
    "### Now call the next function on the object. Notice that the StopIteration exception is raised, as expected."
   ]
  },
  {
   "cell_type": "code",
   "execution_count": 6,
   "id": "15bc7bad",
   "metadata": {},
   "outputs": [
    {
     "ename": "StopIteration",
     "evalue": "",
     "output_type": "error",
     "traceback": [
      "\u001b[0;31m---------------------------------------------------------------------------\u001b[0m",
      "\u001b[0;31mStopIteration\u001b[0m                             Traceback (most recent call last)",
      "\u001b[0;32m/var/folders/nm/65cmnj_s2xq3cck51g5hdhc00000gn/T/ipykernel_10363/24389517.py\u001b[0m in \u001b[0;36m<module>\u001b[0;34m\u001b[0m\n\u001b[0;32m----> 1\u001b[0;31m \u001b[0mprint\u001b[0m\u001b[0;34m(\u001b[0m\u001b[0mnext\u001b[0m\u001b[0;34m(\u001b[0m\u001b[0mf1\u001b[0m\u001b[0;34m)\u001b[0m\u001b[0;34m)\u001b[0m\u001b[0;34m\u001b[0m\u001b[0;34m\u001b[0m\u001b[0m\n\u001b[0m",
      "\u001b[0;32m/var/folders/nm/65cmnj_s2xq3cck51g5hdhc00000gn/T/ipykernel_10363/3130443421.py\u001b[0m in \u001b[0;36m__next__\u001b[0;34m(self)\u001b[0m\n\u001b[1;32m     20\u001b[0m             \u001b[0;32mreturn\u001b[0m \u001b[0mfib_val\u001b[0m\u001b[0;34m\u001b[0m\u001b[0;34m\u001b[0m\u001b[0m\n\u001b[1;32m     21\u001b[0m         \u001b[0;32melse\u001b[0m\u001b[0;34m:\u001b[0m\u001b[0;34m\u001b[0m\u001b[0;34m\u001b[0m\u001b[0m\n\u001b[0;32m---> 22\u001b[0;31m             \u001b[0;32mraise\u001b[0m \u001b[0mStopIteration\u001b[0m\u001b[0;34m\u001b[0m\u001b[0;34m\u001b[0m\u001b[0m\n\u001b[0m",
      "\u001b[0;31mStopIteration\u001b[0m: "
     ]
    }
   ],
   "source": [
    "print(next(f1))"
   ]
  },
  {
   "cell_type": "markdown",
   "id": "e781352e",
   "metadata": {},
   "source": [
    "### Create a new instance and check the next function couple of times."
   ]
  },
  {
   "cell_type": "code",
   "execution_count": 7,
   "id": "57c75d3d",
   "metadata": {},
   "outputs": [
    {
     "name": "stdout",
     "output_type": "stream",
     "text": [
      "1\n",
      "1\n",
      "2\n"
     ]
    }
   ],
   "source": [
    "f2 = fiboIto(7)\n",
    "print(next(f2))\n",
    "print(next(f2))\n",
    "print(next(f2))"
   ]
  },
  {
   "cell_type": "markdown",
   "id": "5c59f403",
   "metadata": {},
   "source": [
    "### It works as expected. Now try the for loop on the same instance. The for loop continues after the last next function calls."
   ]
  },
  {
   "cell_type": "code",
   "execution_count": 8,
   "id": "cebc25b3",
   "metadata": {},
   "outputs": [
    {
     "name": "stdout",
     "output_type": "stream",
     "text": [
      "3\n",
      "5\n",
      "8\n",
      "13\n"
     ]
    }
   ],
   "source": [
    "for num in f2:\n",
    "    print(num)"
   ]
  },
  {
   "cell_type": "markdown",
   "id": "e242aa02",
   "metadata": {},
   "source": [
    "## Step 3 - Create a generator function that will function exactly the same as the iterator class you just created. Show that it works."
   ]
  },
  {
   "cell_type": "code",
   "execution_count": 9,
   "id": "dcae7887",
   "metadata": {},
   "outputs": [],
   "source": [
    "def count_generator(limit):\n",
    "    count = 0\n",
    "    while count < limit:\n",
    "        ret_val = count\n",
    "        count += 1\n",
    "        yield ret_val"
   ]
  },
  {
   "cell_type": "code",
   "execution_count": 10,
   "id": "8e8776cd",
   "metadata": {},
   "outputs": [
    {
     "name": "stdout",
     "output_type": "stream",
     "text": [
      "0\n",
      "1\n",
      "2\n",
      "3\n",
      "4\n"
     ]
    }
   ],
   "source": [
    "for num in count_generator(5):\n",
    "    print(num)"
   ]
  },
  {
   "cell_type": "markdown",
   "id": "c75219aa",
   "metadata": {},
   "source": [
    "### Create a fibonacci generator and show that it works by using it in a loop."
   ]
  },
  {
   "cell_type": "code",
   "execution_count": 11,
   "id": "327e41e1",
   "metadata": {},
   "outputs": [],
   "source": [
    "def fib_generator(limit):\n",
    "    last = 1\n",
    "    current = 1\n",
    "    for i in range(limit):\n",
    "        if i in (0,1):\n",
    "            yield 1\n",
    "        else:\n",
    "            fib_val = current + last\n",
    "            last = current\n",
    "            current = fib_val\n",
    "            yield fib_val"
   ]
  },
  {
   "cell_type": "code",
   "execution_count": 12,
   "id": "c68fa40c",
   "metadata": {},
   "outputs": [
    {
     "name": "stdout",
     "output_type": "stream",
     "text": [
      "1\n",
      "1\n",
      "2\n",
      "3\n",
      "5\n"
     ]
    }
   ],
   "source": [
    "for num in fib_generator(5):\n",
    "    print(num)"
   ]
  },
  {
   "cell_type": "markdown",
   "id": "6f2a6b81",
   "metadata": {},
   "source": [
    "### Assign the result calling count_generator to a variable. Is the type of that return value the same as the type of the count_generator function? This shows that they are the same type."
   ]
  },
  {
   "cell_type": "code",
   "execution_count": 13,
   "id": "211de501",
   "metadata": {},
   "outputs": [
    {
     "name": "stdout",
     "output_type": "stream",
     "text": [
      "The type of a variable assigned to calling count_generator is <class 'generator'>\n",
      "The type of count_generator is <class 'generator'>\n"
     ]
    }
   ],
   "source": [
    "num_count = count_generator(5)\n",
    "print(f'The type of a variable assigned to calling count_generator is {type(num_count)}')\n",
    "print(f'The type of count_generator is {type(count_generator(5))}')"
   ]
  },
  {
   "cell_type": "markdown",
   "id": "cbffa647",
   "metadata": {},
   "source": [
    "### Try out the result object with next() and multiple iterations to make sure that it’s behaving like any other iterator. This shows it is acting the same."
   ]
  },
  {
   "cell_type": "code",
   "execution_count": 14,
   "id": "7aed2f29",
   "metadata": {},
   "outputs": [
    {
     "name": "stdout",
     "output_type": "stream",
     "text": [
      "0\n",
      "1\n",
      "2\n",
      "3\n",
      "4\n"
     ]
    }
   ],
   "source": [
    "test_num = count_generator(6)\n",
    "print(next(test_num))\n",
    "print(next(test_num))\n",
    "print(next(test_num))\n",
    "print(next(test_num))\n",
    "print(next(test_num))"
   ]
  },
  {
   "cell_type": "markdown",
   "id": "549ae9f3",
   "metadata": {},
   "source": [
    "## Deliverable 1 - Using the CountIterator class and your Fibonacci iterable class as models, create an iterator class that will return the specified number of Fibonacci numbers, similar to the iterable."
   ]
  },
  {
   "cell_type": "code",
   "execution_count": 15,
   "id": "46e3cd5f",
   "metadata": {},
   "outputs": [],
   "source": [
    "class fibCounter:\n",
    "    def __init__(self, num_fibs):\n",
    "        self.num_fibs = num_fibs\n",
    "        self.count = 0\n",
    "        \n",
    "    def __iter__(self):\n",
    "        return self\n",
    "    \n",
    "    def __getitem__(self, index):\n",
    "        if index in (0, 1):\n",
    "            return 1\n",
    "        else:\n",
    "            current = 1\n",
    "            last = 1\n",
    "            for i in range(2, index+1):\n",
    "                ret_val = current + last\n",
    "                last = current\n",
    "                current = ret_val\n",
    "            return ret_val\n",
    "    \n",
    "    def __next__(self):\n",
    "        if self.count < self.num_fibs:\n",
    "            return_value = self.__getitem__(self.count)\n",
    "            self.count += 1\n",
    "            return return_value\n",
    "        else:\n",
    "            raise StopIteration"
   ]
  },
  {
   "cell_type": "code",
   "execution_count": 16,
   "id": "5c938ced",
   "metadata": {},
   "outputs": [
    {
     "name": "stdout",
     "output_type": "stream",
     "text": [
      "1\n",
      "1\n",
      "2\n",
      "3\n",
      "5\n",
      "8\n",
      "13\n"
     ]
    }
   ],
   "source": [
    "fc = fibCounter(7)\n",
    "for i in fc:\n",
    "    print(i)"
   ]
  },
  {
   "cell_type": "markdown",
   "id": "04461590",
   "metadata": {},
   "source": [
    "## Deliverable 2 - Based on the count_generator function, create a generator function that works exactly the same as the CountIterator class. Submit it and the code that shows it works."
   ]
  },
  {
   "cell_type": "code",
   "execution_count": 17,
   "id": "1fbb5998",
   "metadata": {},
   "outputs": [],
   "source": [
    "def count_iter_generator(limit):\n",
    "    value = 0\n",
    "    while value < limit:\n",
    "        ret_val, value = value, (value + 1)\n",
    "        yield ret_val"
   ]
  },
  {
   "cell_type": "code",
   "execution_count": 18,
   "id": "0ce759d3",
   "metadata": {},
   "outputs": [
    {
     "name": "stdout",
     "output_type": "stream",
     "text": [
      "0\n",
      "1\n",
      "2\n",
      "3\n",
      "4\n"
     ]
    }
   ],
   "source": [
    "c = count_iter_generator(5)\n",
    "for i in c:\n",
    "    print(i)"
   ]
  },
  {
   "cell_type": "code",
   "execution_count": 19,
   "id": "57dce64d",
   "metadata": {},
   "outputs": [
    {
     "name": "stdout",
     "output_type": "stream",
     "text": [
      "[0, 1, 2, 3, 4, 5, 6, 7, 8]\n"
     ]
    }
   ],
   "source": [
    "c2 = count_iter_generator(9)\n",
    "c_list = list(c2)\n",
    "print(c_list)"
   ]
  }
 ],
 "metadata": {
  "kernelspec": {
   "display_name": "Python 3 (ipykernel)",
   "language": "python",
   "name": "python3"
  },
  "language_info": {
   "codemirror_mode": {
    "name": "ipython",
    "version": 3
   },
   "file_extension": ".py",
   "mimetype": "text/x-python",
   "name": "python",
   "nbconvert_exporter": "python",
   "pygments_lexer": "ipython3",
   "version": "3.10.0"
  }
 },
 "nbformat": 4,
 "nbformat_minor": 5
}
