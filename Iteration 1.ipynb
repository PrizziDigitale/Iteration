{
 "cells": [
  {
   "cell_type": "markdown",
   "id": "940dc148",
   "metadata": {},
   "source": [
    "## Step 1 - Experiment with a simple iterable."
   ]
  },
  {
   "cell_type": "code",
   "execution_count": 51,
   "id": "9a780f23",
   "metadata": {},
   "outputs": [],
   "source": [
    "class Count:\n",
    "    def __init__(self, limit):\n",
    "        self.limit = limit\n",
    "        \n",
    "    def __getitem__(self, index):\n",
    "        # if index is less than self.limit, return index\n",
    "        if index < self.limit:\n",
    "            return index\n",
    "        # else raise an IndexError\n",
    "        else:\n",
    "            raise IndexError('Index must be less than the limit.')"
   ]
  },
  {
   "cell_type": "markdown",
   "id": "90df0a2f",
   "metadata": {},
   "source": [
    "### Create an instance with a limit of five and use that instance in a for loop."
   ]
  },
  {
   "cell_type": "code",
   "execution_count": 52,
   "id": "6ca89e9a",
   "metadata": {},
   "outputs": [
    {
     "name": "stdout",
     "output_type": "stream",
     "text": [
      "0\n",
      "1\n",
      "2\n",
      "3\n",
      "4\n"
     ]
    }
   ],
   "source": [
    "counter = Count(5)\n",
    "for num in counter:\n",
    "    print(num)"
   ]
  },
  {
   "cell_type": "markdown",
   "id": "03ad83dd",
   "metadata": {},
   "source": [
    "### Test to see if you can also access elements of the iterable by index; for example, counter[0]."
   ]
  },
  {
   "cell_type": "code",
   "execution_count": 53,
   "id": "a1c905cf",
   "metadata": {},
   "outputs": [
    {
     "name": "stdout",
     "output_type": "stream",
     "text": [
      "0\n",
      "3\n"
     ]
    }
   ],
   "source": [
    "print(counter[0])\n",
    "print(counter[3])"
   ]
  },
  {
   "cell_type": "markdown",
   "id": "bee5b0b2",
   "metadata": {},
   "source": [
    "### Also test to make sure that going beyond the maximum index will raise an index error."
   ]
  },
  {
   "cell_type": "code",
   "execution_count": 54,
   "id": "d8d89054",
   "metadata": {},
   "outputs": [],
   "source": [
    "# Note: I commented this line in order to not cause the program to exit.\n",
    "#print(counter[5])"
   ]
  },
  {
   "cell_type": "markdown",
   "id": "d8c91a88",
   "metadata": {},
   "source": [
    "## Step 2 - Create a more complicated iterable for Fibonacci numbers. "
   ]
  },
  {
   "cell_type": "code",
   "execution_count": 55,
   "id": "3bda6884",
   "metadata": {},
   "outputs": [],
   "source": [
    "class Fibonacci:\n",
    "    def __init__(self, limit):\n",
    "        # set the maximum number of Fibonacci numbers\n",
    "        self.limit = limit\n",
    "        \n",
    "    def __getitem__(self, index):\n",
    "        if index < self.limit:\n",
    "            # implement creating and returning a Fibonacci number here\n",
    "            # you can use more than one if or elif if you want\n",
    "            if index <= 1:\n",
    "                return 1\n",
    "            else:\n",
    "                current = 1\n",
    "                last = 1\n",
    "                for i in range(2, index + 1):\n",
    "                    value = current + last\n",
    "                    last = current\n",
    "                    current = value\n",
    "                return value\n",
    "        else:\n",
    "            raise IndexError('Index must be less than the limit.')"
   ]
  },
  {
   "cell_type": "markdown",
   "id": "9a9c0b40",
   "metadata": {},
   "source": [
    "### Create an instance of your Fibonacci class and make sure that you can iterate over it. "
   ]
  },
  {
   "cell_type": "code",
   "execution_count": 56,
   "id": "49658f85",
   "metadata": {},
   "outputs": [
    {
     "name": "stdout",
     "output_type": "stream",
     "text": [
      "1\n",
      "1\n",
      "2\n",
      "3\n",
      "5\n"
     ]
    }
   ],
   "source": [
    "fib = Fibonacci(5)\n",
    "for number in fib:\n",
    "    print(number)"
   ]
  },
  {
   "cell_type": "markdown",
   "id": "bca28653",
   "metadata": {},
   "source": [
    "### Check to see if you can access fibonacci by index"
   ]
  },
  {
   "cell_type": "code",
   "execution_count": 57,
   "id": "9c6ed6bf",
   "metadata": {},
   "outputs": [
    {
     "name": "stdout",
     "output_type": "stream",
     "text": [
      "5\n",
      "3\n"
     ]
    }
   ],
   "source": [
    "print(fib[4])\n",
    "print(fib[3])"
   ]
  },
  {
   "cell_type": "markdown",
   "id": "7fcdfb95",
   "metadata": {},
   "source": [
    "### Check that trying to get an index higher than the limit will raise an IndexError"
   ]
  },
  {
   "cell_type": "code",
   "execution_count": 58,
   "id": "183e5783",
   "metadata": {},
   "outputs": [
    {
     "ename": "IndexError",
     "evalue": "Index must be less than the limit.",
     "output_type": "error",
     "traceback": [
      "\u001b[0;31m---------------------------------------------------------------------------\u001b[0m",
      "\u001b[0;31mIndexError\u001b[0m                                Traceback (most recent call last)",
      "\u001b[0;32m/var/folders/nm/65cmnj_s2xq3cck51g5hdhc00000gn/T/ipykernel_72214/1190151682.py\u001b[0m in \u001b[0;36m<module>\u001b[0;34m\u001b[0m\n\u001b[0;32m----> 1\u001b[0;31m \u001b[0mprint\u001b[0m\u001b[0;34m(\u001b[0m\u001b[0mfib\u001b[0m\u001b[0;34m[\u001b[0m\u001b[0;36m6\u001b[0m\u001b[0;34m]\u001b[0m\u001b[0;34m)\u001b[0m\u001b[0;34m\u001b[0m\u001b[0;34m\u001b[0m\u001b[0m\n\u001b[0m",
      "\u001b[0;32m/var/folders/nm/65cmnj_s2xq3cck51g5hdhc00000gn/T/ipykernel_72214/3131674211.py\u001b[0m in \u001b[0;36m__getitem__\u001b[0;34m(self, index)\u001b[0m\n\u001b[1;32m     19\u001b[0m                 \u001b[0;32mreturn\u001b[0m \u001b[0mvalue\u001b[0m\u001b[0;34m\u001b[0m\u001b[0;34m\u001b[0m\u001b[0m\n\u001b[1;32m     20\u001b[0m         \u001b[0;32melse\u001b[0m\u001b[0;34m:\u001b[0m\u001b[0;34m\u001b[0m\u001b[0;34m\u001b[0m\u001b[0m\n\u001b[0;32m---> 21\u001b[0;31m             \u001b[0;32mraise\u001b[0m \u001b[0mIndexError\u001b[0m\u001b[0;34m(\u001b[0m\u001b[0;34m'Index must be less than the limit.'\u001b[0m\u001b[0;34m)\u001b[0m\u001b[0;34m\u001b[0m\u001b[0;34m\u001b[0m\u001b[0m\n\u001b[0m",
      "\u001b[0;31mIndexError\u001b[0m: Index must be less than the limit."
     ]
    }
   ],
   "source": [
    "print(fib[6])"
   ]
  }
 ],
 "metadata": {
  "kernelspec": {
   "display_name": "Python 3 (ipykernel)",
   "language": "python",
   "name": "python3"
  },
  "language_info": {
   "codemirror_mode": {
    "name": "ipython",
    "version": 3
   },
   "file_extension": ".py",
   "mimetype": "text/x-python",
   "name": "python",
   "nbconvert_exporter": "python",
   "pygments_lexer": "ipython3",
   "version": "3.10.0"
  }
 },
 "nbformat": 4,
 "nbformat_minor": 5
}
